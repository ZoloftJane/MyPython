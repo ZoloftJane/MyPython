{
 "cells": [
  {
   "cell_type": "code",
   "execution_count": null,
   "id": "d50c6df7",
   "metadata": {},
   "outputs": [],
   "source": [
    "a = int (input())\n",
    "b = a//10 + a%10\n",
    "print (b)"
   ]
  },
  {
   "cell_type": "code",
   "execution_count": 11,
   "id": "7300b8d9",
   "metadata": {},
   "outputs": [
    {
     "name": "stdout",
     "output_type": "stream",
     "text": [
      "68\n",
      "NO\n"
     ]
    }
   ],
   "source": [
    "X = int(input())\n",
    "Y = X//1000\n",
    "Z = X//100\n",
    "if Y == 0 and Z>0: \n",
    "    print ('YES')\n",
    "else:\n",
    "    print ('NO')"
   ]
  },
  {
   "cell_type": "code",
   "execution_count": 30,
   "id": "19e46a22",
   "metadata": {},
   "outputs": [
    {
     "name": "stdout",
     "output_type": "stream",
     "text": [
      "60\n",
      "2\n",
      "11\n"
     ]
    }
   ],
   "source": [
    "V = int(input())\n",
    "t = int(input())\n",
    "S = (V*t)%109\n",
    "print (S)"
   ]
  },
  {
   "cell_type": "code",
   "execution_count": 20,
   "id": "1d1e5bb6",
   "metadata": {},
   "outputs": [
    {
     "name": "stdout",
     "output_type": "stream",
     "text": [
      "10\n",
      "12\n",
      "5\n",
      "110\n"
     ]
    }
   ],
   "source": [
    "v1 = int(input())\n",
    "v2 = int(input())\n",
    "t = int(input())\n",
    "S = v1*t + v2*t\n",
    "print (S)"
   ]
  },
  {
   "cell_type": "code",
   "execution_count": 24,
   "id": "e9f0a51a",
   "metadata": {},
   "outputs": [
    {
     "name": "stdout",
     "output_type": "stream",
     "text": [
      "2\n",
      "50\n",
      "4\n",
      "10 0\n"
     ]
    }
   ],
   "source": [
    "a = int(input())\n",
    "b = int(input())\n",
    "nn = int(input())\n",
    "res= (a*100 + b)*nn\n",
    "rub = res//100\n",
    "kop = res%100\n",
    "print (rub, kop)"
   ]
  },
  {
   "cell_type": "code",
   "execution_count": null,
   "id": "a1b2654f",
   "metadata": {},
   "outputs": [],
   "source": [
    "N = int(input())\n",
    "K = int(input())\n",
    "P = K%N\n",
    "print (P)"
   ]
  },
  {
   "cell_type": "code",
   "execution_count": null,
   "id": "79195f63",
   "metadata": {},
   "outputs": [],
   "source": []
  }
 ],
 "metadata": {
  "kernelspec": {
   "display_name": "Python 3 (ipykernel)",
   "language": "python",
   "name": "python3"
  },
  "language_info": {
   "codemirror_mode": {
    "name": "ipython",
    "version": 3
   },
   "file_extension": ".py",
   "mimetype": "text/x-python",
   "name": "python",
   "nbconvert_exporter": "python",
   "pygments_lexer": "ipython3",
   "version": "3.9.12"
  }
 },
 "nbformat": 4,
 "nbformat_minor": 5
}
