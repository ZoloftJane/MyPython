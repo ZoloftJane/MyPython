{
 "cells": [
  {
   "cell_type": "code",
   "execution_count": null,
   "id": "21a4c950",
   "metadata": {},
   "outputs": [],
   "source": [
    "print(type(None))"
   ]
  },
  {
   "cell_type": "code",
   "execution_count": null,
   "id": "ce9d3f15",
   "metadata": {},
   "outputs": [],
   "source": [
    "print(type(True))"
   ]
  },
  {
   "cell_type": "code",
   "execution_count": null,
   "id": "85889745",
   "metadata": {},
   "outputs": [],
   "source": [
    "print(type(False))"
   ]
  },
  {
   "cell_type": "code",
   "execution_count": null,
   "id": "7da82843",
   "metadata": {},
   "outputs": [],
   "source": [
    "print(type(1))"
   ]
  },
  {
   "cell_type": "code",
   "execution_count": null,
   "id": "1efc1781",
   "metadata": {},
   "outputs": [],
   "source": [
    "print(type(5.3))"
   ]
  },
  {
   "cell_type": "code",
   "execution_count": null,
   "id": "4a26b3be",
   "metadata": {},
   "outputs": [],
   "source": [
    "print(type(5 + 4j))"
   ]
  },
  {
   "cell_type": "code",
   "execution_count": null,
   "id": "1fff4cd6",
   "metadata": {},
   "outputs": [],
   "source": [
    "print(type([1, 5.3, False, 4]))"
   ]
  },
  {
   "cell_type": "code",
   "execution_count": null,
   "id": "dbdc3ee0",
   "metadata": {},
   "outputs": [],
   "source": [
    "print(type((1, True, 3, 5+4j)))"
   ]
  },
  {
   "cell_type": "code",
   "execution_count": null,
   "id": "6883868d",
   "metadata": {},
   "outputs": [],
   "source": [
    "print(type(range(5)))"
   ]
  },
  {
   "cell_type": "code",
   "execution_count": null,
   "id": "0976c845",
   "metadata": {},
   "outputs": [],
   "source": [
    "print(type('Hello'))"
   ]
  },
  {
   "cell_type": "code",
   "execution_count": null,
   "id": "cdb4250a",
   "metadata": {},
   "outputs": [],
   "source": [
    "print(type(b'a'))"
   ]
  },
  {
   "cell_type": "code",
   "execution_count": null,
   "id": "a1f155da",
   "metadata": {},
   "outputs": [],
   "source": [
    "print(type(bytearray([1,2,3])))"
   ]
  },
  {
   "cell_type": "code",
   "execution_count": null,
   "id": "b63a7a71",
   "metadata": {},
   "outputs": [],
   "source": [
    "print(type(memoryview(bytearray('XYZ', 'utf-8'))))"
   ]
  },
  {
   "cell_type": "code",
   "execution_count": null,
   "id": "c427da6b",
   "metadata": {},
   "outputs": [],
   "source": [
    "print(type({'a', 3, True}) )"
   ]
  },
  {
   "cell_type": "code",
   "execution_count": null,
   "id": "48d75f48",
   "metadata": {},
   "outputs": [],
   "source": [
    "print(type(frozenset({1, 2, 3})) )"
   ]
  },
  {
   "cell_type": "code",
   "execution_count": null,
   "id": "ec7ba6f1",
   "metadata": {},
   "outputs": [],
   "source": [
    "print(type({'a' : 32}))"
   ]
  },
  {
   "cell_type": "code",
   "execution_count": null,
   "id": "a15af6fb",
   "metadata": {},
   "outputs": [],
   "source": [
    "print(\"Addition of two complex numbers : \",(4+3j)+(3-7j))\n",
    "print(\"Subtraction of two complex numbers : \",(4+3j)-(3-7j))\n",
    "print(\"Multiplication of two complex numbers : \",(4+3j)*(3-7j))\n",
    "print(\"Division of two complex numbers : \",(4+3j)/(3-7j))"
   ]
  },
  {
   "cell_type": "code",
   "execution_count": null,
   "id": "78b13efd",
   "metadata": {},
   "outputs": [],
   "source": [
    "a = int(input())\n",
    "b = int(input())\n",
    "c = (a**2 + b**2)**0.5\n",
    "print (c)"
   ]
  },
  {
   "cell_type": "code",
   "execution_count": null,
   "id": "74e8d3fe",
   "metadata": {},
   "outputs": [],
   "source": [
    "a = int(input())\n",
    "b = a%10\n",
    "print (b)"
   ]
  },
  {
   "cell_type": "code",
   "execution_count": null,
   "id": "545010d3",
   "metadata": {},
   "outputs": [],
   "source": [
    "a = int(input())\n",
    "b = a//10\n",
    "print (b)"
   ]
  },
  {
   "cell_type": "code",
   "execution_count": null,
   "id": "461262a3",
   "metadata": {},
   "outputs": [],
   "source": [
    "a = int(input())\n",
    "x = a//100\n",
    "y = a//10%10\n",
    "z = a%10\n",
    "b = x + y + z\n",
    "print (b)"
   ]
  },
  {
   "cell_type": "code",
   "execution_count": 1,
   "id": "4a370db0",
   "metadata": {},
   "outputs": [
    {
     "name": "stdout",
     "output_type": "stream",
     "text": [
      "5\n",
      "15\n",
      "3\n"
     ]
    }
   ],
   "source": [
    "N = int(input())\n",
    "K = int(input())\n",
    "P = K//N\n",
    "print (P)"
   ]
  },
  {
   "cell_type": "code",
   "execution_count": 3,
   "id": "dfbb4b56",
   "metadata": {},
   "outputs": [
    {
     "name": "stdout",
     "output_type": "stream",
     "text": [
      "17\n",
      "19\n",
      "18\n",
      "28\n"
     ]
    }
   ],
   "source": [
    "A = int(input())\n",
    "B = int(input())\n",
    "C = int(input())\n",
    "Z = A//2 + B//2 + C//2\n",
    "Y = A%2 + B%2 + C%2\n",
    "X = Z + Y\n",
    "print (X)"
   ]
  },
  {
   "cell_type": "code",
   "execution_count": null,
   "id": "a7633751",
   "metadata": {},
   "outputs": [],
   "source": []
  }
 ],
 "metadata": {
  "kernelspec": {
   "display_name": "Python 3 (ipykernel)",
   "language": "python",
   "name": "python3"
  },
  "language_info": {
   "codemirror_mode": {
    "name": "ipython",
    "version": 3
   },
   "file_extension": ".py",
   "mimetype": "text/x-python",
   "name": "python",
   "nbconvert_exporter": "python",
   "pygments_lexer": "ipython3",
   "version": "3.9.12"
  }
 },
 "nbformat": 4,
 "nbformat_minor": 5
}
