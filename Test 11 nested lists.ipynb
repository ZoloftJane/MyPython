{
 "cells": [
  {
   "cell_type": "code",
   "execution_count": null,
   "id": "24f2da3a",
   "metadata": {},
   "outputs": [],
   "source": [
    "# Найдите индексы первого вхождения максимального элемента\n",
    "nn, mm = (int(i) for i in input().split())\n",
    "arr = [[int(elem) for elem in input().split()] for i in range(nn)]\n",
    "idxi, idxj = 0, 0\n",
    "maxelem = arr[0][0]\n",
    "for i in range(nn):\n",
    "    for j in range(mm):\n",
    "        if arr[i][j] > maxelem:\n",
    "            maxelem = arr[i][j]\n",
    "            idxi = i\n",
    "            idxj = j\n",
    "print (idxi, idxj)"
   ]
  },
  {
   "cell_type": "code",
   "execution_count": null,
   "id": "c6bd25cb",
   "metadata": {},
   "outputs": [],
   "source": [
    "n, m = map(int, input().split())\n",
    "matrix = []\n",
    "for i in range(n):\n",
    "    matrix.append(list(map(int, input().split())))\n",
    "maxi = matrix[0][0]\n",
    "a = 0\n",
    "b = 0\n",
    "for i in range(n):\n",
    "    for j in range(m):\n",
    "         if matrix[i][j] > maxi:\n",
    "            a = i\n",
    "            b = j\n",
    "            maxi = matrix[i][j]\n",
    "print(a, b)"
   ]
  },
  {
   "cell_type": "code",
   "execution_count": null,
   "id": "011fb970",
   "metadata": {},
   "outputs": [],
   "source": [
    "# Считайте с клавиатуры и выведите на экран список из n элементов, каждый элемент – два целых числа. \n",
    "# Выведите полученный список на экран.\n",
    "a=[]\n",
    "n=int(input())\n",
    "for i in range(n):\n",
    "    a.append(list(map(int,input().split()))) \n",
    "print(a)"
   ]
  },
  {
   "cell_type": "code",
   "execution_count": null,
   "id": "9102cf47",
   "metadata": {},
   "outputs": [],
   "source": [
    "# Проверьте, является ли двумерный массив симметричным относительно главной диагонали. \n",
    "# Главная диагональ — та, которая идёт из левого верхнего угла двумерного массива в правый нижний.\n",
    "def isMatrixSymmetric(matrix: list) -> bool:\n",
    "    for i in range(1, len(matrix)):\n",
    "        for j in range(i):\n",
    "            if matrix[i][j] != matrix[j][i]:\n",
    "                return False\n",
    "    return True\n",
    "matrix =[list(map(int, input().split())) for _ in range(int(input()))]\n",
    "print(\"yes\" if isMatrixSymmetric(matrix) else \"no\")"
   ]
  },
  {
   "cell_type": "code",
   "execution_count": null,
   "id": "8f4f31d5",
   "metadata": {},
   "outputs": [],
   "source": [
    "# Дополнительная задача - \"Снежинка\""
   ]
  },
  {
   "cell_type": "code",
   "execution_count": 20,
   "id": "6dd4a3b1",
   "metadata": {},
   "outputs": [
    {
     "name": "stdout",
     "output_type": "stream",
     "text": [
      "5\n",
      "* . * . *\n",
      ". * * * .\n",
      "* * * * *\n",
      ". * * * .\n",
      "* . * . *\n"
     ]
    }
   ],
   "source": [
    "n = int(input())\n",
    "mas = [['.'] * n for i in range(n)]\n",
    "for i in range(n):\n",
    "    for j in range(n):\n",
    "        if i == (n // 2) or j == (n//2):\n",
    "            mas[i][j] = '*'\n",
    "        elif i == j:\n",
    "            mas[i][j] = '*'\n",
    "        elif i+j == n-1:\n",
    "            mas[i][j] = '*'\n",
    "for i in range(n):\n",
    "    print(*mas[i])"
   ]
  },
  {
   "cell_type": "code",
   "execution_count": 27,
   "id": "744a3006",
   "metadata": {},
   "outputs": [
    {
     "name": "stdout",
     "output_type": "stream",
     "text": [
      "3\n",
      "369\n"
     ]
    }
   ],
   "source": [
    "n = int(input())\n",
    "nn = n*10+n\n",
    "nnn = n*100+n*10+n\n",
    "Z = n+nn+nnn\n",
    "print(Z)"
   ]
  },
  {
   "cell_type": "code",
   "execution_count": null,
   "id": "c37fb345",
   "metadata": {},
   "outputs": [],
   "source": []
  }
 ],
 "metadata": {
  "kernelspec": {
   "display_name": "Python 3 (ipykernel)",
   "language": "python",
   "name": "python3"
  },
  "language_info": {
   "codemirror_mode": {
    "name": "ipython",
    "version": 3
   },
   "file_extension": ".py",
   "mimetype": "text/x-python",
   "name": "python",
   "nbconvert_exporter": "python",
   "pygments_lexer": "ipython3",
   "version": "3.9.12"
  }
 },
 "nbformat": 4,
 "nbformat_minor": 5
}
