{
 "cells": [
  {
   "cell_type": "code",
   "execution_count": 3,
   "id": "89810e81",
   "metadata": {},
   "outputs": [
    {
     "name": "stdout",
     "output_type": "stream",
     "text": [
      "4 5\n",
      "4 5 6 7 8\n"
     ]
    }
   ],
   "source": [
    "# Напишите программу, которая заполняет массив из N элементов последовательными натуральными числами, начиная с X , и выводит его.\n",
    "x, n = map(int, input().split())\n",
    "A = [x+i for i in range(n)]\n",
    "print(*A)\n"
   ]
  },
  {
   "cell_type": "code",
   "execution_count": 7,
   "id": "f73873ee",
   "metadata": {},
   "outputs": [
    {
     "name": "stdout",
     "output_type": "stream",
     "text": [
      "5\n",
      "1 4 9 16 25\n"
     ]
    }
   ],
   "source": [
    "# Напишите программу, которая заполняет массив квадратами натуральных чисел от 1 до N .\n",
    "N = int(input())\n",
    "A = [i*i for i in range(1,N+1)]\n",
    "print(*A)"
   ]
  },
  {
   "cell_type": "code",
   "execution_count": 11,
   "id": "24b079e8",
   "metadata": {},
   "outputs": [
    {
     "name": "stdout",
     "output_type": "stream",
     "text": [
      "5\n",
      "5 4 3 2 1\n"
     ]
    }
   ],
   "source": [
    "# Напишите программу, которая заполняет массив первыми N натуральными числами в обратном порядке (начиная с последнего) и выводит его.\n",
    "N = int(input())\n",
    "A = [i for i in range(1,N+1)]\n",
    "print(*A[::-1])"
   ]
  },
  {
   "cell_type": "code",
   "execution_count": 12,
   "id": "9b238304",
   "metadata": {},
   "outputs": [
    {
     "name": "stdout",
     "output_type": "stream",
     "text": [
      "5\n",
      "1 2 3 4 5\n"
     ]
    }
   ],
   "source": [
    "# Напишите программу, которая заполняет массив первыми N натуральными числами и выводит его.\n",
    "N = int(input())\n",
    "A = [i for i in range(1,N+1)]\n",
    "print(*A)"
   ]
  },
  {
   "cell_type": "code",
   "execution_count": 13,
   "id": "a2657cfd",
   "metadata": {},
   "outputs": [
    {
     "name": "stdout",
     "output_type": "stream",
     "text": [
      "6 4\n",
      "9 8 7 6\n"
     ]
    }
   ],
   "source": [
    "# Напишите программу, которая заполняет массив из N элементов в обратном порядке последовательными натуральными числами, \n",
    "# начиная с последнего элемента, который должен быть равен X .\n",
    "x, n = map(int, input().split())\n",
    "A = [x+i for i in range(n)]\n",
    "print(*A[::-1])"
   ]
  },
  {
   "cell_type": "code",
   "execution_count": 15,
   "id": "793f0ab7",
   "metadata": {},
   "outputs": [
    {
     "name": "stdout",
     "output_type": "stream",
     "text": [
      "5\n",
      "32 16 8 4 2\n"
     ]
    }
   ],
   "source": [
    "# Напишите программу, которая заполняет массив из N элементов степенями числа 2, начиная с 2 1 до 2 N , в обратном порядке.\n",
    "N = int(input())\n",
    "A = [2**i for i in range(1,N+1)]\n",
    "print(*A[::-1])"
   ]
  },
  {
   "cell_type": "code",
   "execution_count": 17,
   "id": "9d763083",
   "metadata": {},
   "outputs": [
    {
     "name": "stdout",
     "output_type": "stream",
     "text": [
      "[9, 4, 2, 3, 1, 9]\n"
     ]
    }
   ],
   "source": [
    "arr = \"lsj94ksd231 9\" \n",
    "b = [int(x) for x in arr if '0'<=x<='9'] \n",
    "print(b)"
   ]
  },
  {
   "cell_type": "code",
   "execution_count": 18,
   "id": "10365cce",
   "metadata": {},
   "outputs": [
    {
     "name": "stdout",
     "output_type": "stream",
     "text": [
      "[-8, 0, 4, 16]\n"
     ]
    }
   ],
   "source": [
    "a = [-2, -1, 0, 1, 2, 3, 4, 5] \n",
    "b = [x**3 if x < 0 else x**2 for x in a if x % 2 == 0] \n",
    "print(b)"
   ]
  },
  {
   "cell_type": "code",
   "execution_count": null,
   "id": "e06b513c",
   "metadata": {},
   "outputs": [],
   "source": []
  }
 ],
 "metadata": {
  "kernelspec": {
   "display_name": "Python 3 (ipykernel)",
   "language": "python",
   "name": "python3"
  },
  "language_info": {
   "codemirror_mode": {
    "name": "ipython",
    "version": 3
   },
   "file_extension": ".py",
   "mimetype": "text/x-python",
   "name": "python",
   "nbconvert_exporter": "python",
   "pygments_lexer": "ipython3",
   "version": "3.9.12"
  }
 },
 "nbformat": 4,
 "nbformat_minor": 5
}
