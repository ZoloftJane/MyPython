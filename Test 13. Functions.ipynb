{
 "cells": [
  {
   "cell_type": "code",
   "execution_count": 14,
   "id": "6a30235f",
   "metadata": {},
   "outputs": [
    {
     "name": "stdout",
     "output_type": "stream",
     "text": [
      "2 1\n",
      "2.0\n"
     ]
    }
   ],
   "source": [
    "# Напишите функцию, вычисляющую значение an.\n",
    "a, n = map(float,input().split())\n",
    "def vozved_v_step (a, n):\n",
    "    x = a**n\n",
    "    return x\n",
    "print(vozved_v_step(a,n))"
   ]
  },
  {
   "cell_type": "code",
   "execution_count": 15,
   "id": "b059ab89",
   "metadata": {},
   "outputs": [
    {
     "name": "stdout",
     "output_type": "stream",
     "text": [
      "4 5 6 7\n",
      "4\n"
     ]
    }
   ],
   "source": [
    "# Напишите функцию, находящую наименьшее из четырех данных чисел.\n",
    "def get_min(mylist):\n",
    "    return min(mylist)\n",
    "ls = list(map(int, input().split()))\n",
    "print(get_min(ls))"
   ]
  },
  {
   "cell_type": "code",
   "execution_count": 34,
   "id": "859545c6",
   "metadata": {},
   "outputs": [
    {
     "name": "stdout",
     "output_type": "stream",
     "text": [
      "1 0\n",
      "1\n"
     ]
    }
   ],
   "source": [
    "# Напишите функцию def xor(x, y):(Python)\n",
    "# реализующую функцию \"Исключающее ИЛИ\" двух логических переменных x и y. \n",
    "# Функция Xor должна возвращать true, если ровно один из ее аргументов x или y, но не оба одновременно равны true.\n",
    "def xor(x,y):\n",
    "    if x+y == 1:\n",
    "        return 1\n",
    "    else:\n",
    "        return 0\n",
    "x,y = map(int,input().split())\n",
    "print(xor(x,y))\n",
    "    "
   ]
  },
  {
   "cell_type": "code",
   "execution_count": 31,
   "id": "58e60cbf",
   "metadata": {},
   "outputs": [
    {
     "name": "stdout",
     "output_type": "stream",
     "text": [
      "0\n",
      "0\n",
      "1\n",
      "0\n",
      "1.0\n"
     ]
    }
   ],
   "source": [
    "# Даны четыре действительных числа: x1, y1, x2, y2. Напишите функцию distance(x1, y1, x2, y2), вычисляющую расстояние между точкой (x1,y1)и (x2,y2). \n",
    "# Считайте четыре действительных числа и выведите результат работы этой функции.\n",
    "def distance(x1, y1, x2, y2):\n",
    "    s = ((x2-x1)**2 +(y2-y1)**2)**0.5\n",
    "    return s\n",
    "x1 = int(input())\n",
    "y1 = int(input())\n",
    "x2 = int(input())\n",
    "y2 = int(input())\n",
    "print(distance(x1, y1, x2, y2))"
   ]
  },
  {
   "cell_type": "code",
   "execution_count": 37,
   "id": "3ab1faef",
   "metadata": {},
   "outputs": [
    {
     "name": "stdout",
     "output_type": "stream",
     "text": [
      "agfagafg\n",
      "8\n"
     ]
    }
   ],
   "source": [
    "# Напишите программу, которая вычисляет количество цифр числа. Используйте функцию.\n",
    "def num_num(mylist):\n",
    "    return len(mylist)\n",
    "ls = list(input())\n",
    "print(num_num(ls))\n",
    "        "
   ]
  },
  {
   "cell_type": "code",
   "execution_count": 41,
   "id": "8dc7e260",
   "metadata": {},
   "outputs": [
    {
     "name": "stdout",
     "output_type": "stream",
     "text": [
      "123\n",
      "321\n"
     ]
    }
   ],
   "source": [
    "# Напишите программу, которая \"разворачивает\" число наоборот, \n",
    "# например, из числа 123 строит число 321. Используйте функцию для выполнения этой операции.\n",
    "def reverse_list(mylist):\n",
    "    return print(*mylist[::-1],sep='')\n",
    "ls = list(input())\n",
    "reverse_list(ls)\n",
    "        "
   ]
  },
  {
   "cell_type": "code",
   "execution_count": null,
   "id": "71fd1dc3",
   "metadata": {},
   "outputs": [],
   "source": []
  }
 ],
 "metadata": {
  "kernelspec": {
   "display_name": "Python 3 (ipykernel)",
   "language": "python",
   "name": "python3"
  },
  "language_info": {
   "codemirror_mode": {
    "name": "ipython",
    "version": 3
   },
   "file_extension": ".py",
   "mimetype": "text/x-python",
   "name": "python",
   "nbconvert_exporter": "python",
   "pygments_lexer": "ipython3",
   "version": "3.9.12"
  }
 },
 "nbformat": 4,
 "nbformat_minor": 5
}
