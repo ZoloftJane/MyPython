{
 "cells": [
  {
   "cell_type": "code",
   "execution_count": 1,
   "id": "e2dd2006",
   "metadata": {},
   "outputs": [
    {
     "name": "stdout",
     "output_type": "stream",
     "text": [
      "aabbccabadef\n",
      "bbbbccbbbdef\n",
      "4\n"
     ]
    }
   ],
   "source": [
    "# Напишите программу, которая заменяет в символьной строке все буквы a на буквы b (латинские, строчные).\n",
    "a = [str(i) for i in input()]\n",
    "c = 0\n",
    "for i in range(len(a)):\n",
    "    if a[i] == 'a':\n",
    "        a[i] = 'b'\n",
    "        c+=1\n",
    "print(*a, sep='')\n",
    "print(c)"
   ]
  },
  {
   "cell_type": "code",
   "execution_count": null,
   "id": "a67cdfc2",
   "metadata": {},
   "outputs": [],
   "source": [
    "a=input()\n",
    "k=0\n",
    "for i in range(len(a)):\n",
    "      if a[i]==\"a\":\n",
    "            print(\"b\", end=\"\")\n",
    "            k+=1\n",
    "        else:\n",
    "            print(a[i], end=\"\")\n",
    "print()\n",
    "print(k)"
   ]
  },
  {
   "cell_type": "code",
   "execution_count": 2,
   "id": "5aa1ad66",
   "metadata": {},
   "outputs": [
    {
     "name": "stdout",
     "output_type": "stream",
     "text": [
      "Hello world\n",
      "2\n"
     ]
    }
   ],
   "source": [
    "# Дана строка, состоящая из слов, разделенных пробелами. \n",
    "# Определите, сколько в ней слов. Используйте для решения задачи метод count.\n",
    "print(input().count(' ')+1)"
   ]
  },
  {
   "cell_type": "code",
   "execution_count": null,
   "id": "6f338f40",
   "metadata": {},
   "outputs": [],
   "source": [
    "s = input()\n",
    "print(s.count(' ') + 1)"
   ]
  },
  {
   "cell_type": "code",
   "execution_count": 3,
   "id": "280e5237",
   "metadata": {},
   "outputs": [
    {
     "name": "stdout",
     "output_type": "stream",
     "text": [
      "Bilbo.Baggins@bagend.hobbiton.shire.me\n",
      "Bilbo.Bagginsbagend.hobbiton.shire.me\n"
     ]
    }
   ],
   "source": [
    "# Дана строка. Удалите из этой строки все символы @.\n",
    "a = [str(i) for i in input()]\n",
    "a.remove('@')\n",
    "print(''.join([str(i) for i in a]))"
   ]
  },
  {
   "cell_type": "code",
   "execution_count": null,
   "id": "28e5a9f6",
   "metadata": {},
   "outputs": [],
   "source": [
    "x=input() \n",
    "x=x.replace(\"@\",\"\") \n",
    "print(x)"
   ]
  },
  {
   "cell_type": "code",
   "execution_count": 23,
   "id": "5d4d1add",
   "metadata": {},
   "outputs": [
    {
     "name": "stdout",
     "output_type": "stream",
     "text": [
      "1 2 3 2 1\n",
      "3 2\n"
     ]
    }
   ],
   "source": [
    "# Дан список чисел. Выведите значение наибольшего элемента в списке, а затем индекс этого элемента в списке. \n",
    "# Если наибольших элементов несколько, выведите индекс первого из них.\n",
    "a = [str(i) for i in input().split(' ')]\n",
    "print(max(a), a.index(max(a)))\n"
   ]
  },
  {
   "cell_type": "code",
   "execution_count": null,
   "id": "062b2918",
   "metadata": {},
   "outputs": [],
   "source": [
    "A = list(map(int, input().split()))\n",
    "print(max(A), A.index(max(A)))"
   ]
  },
  {
   "cell_type": "code",
   "execution_count": 16,
   "id": "d18efde7",
   "metadata": {},
   "outputs": [
    {
     "name": "stdout",
     "output_type": "stream",
     "text": [
      "1 5 7 8 1 5 4\n",
      "1 1 4 5 5 7 8\n",
      "8 7 5 5 4 1 1\n"
     ]
    }
   ],
   "source": [
    "# На вход программе подается одна строка – числа, разделенные пробелами. Считайте эти числа в список. \n",
    "# Отсортируйте элементы списка по возрастанию и по убыванию. \n",
    "# Выведите полученные списки на экран.\n",
    "a = [str(i) for i in input().split(' ')]\n",
    "a.sort()\n",
    "print(*a)\n",
    "a.reverse()\n",
    "print(*a)"
   ]
  },
  {
   "cell_type": "code",
   "execution_count": null,
   "id": "20165287",
   "metadata": {},
   "outputs": [],
   "source": [
    "m=list(map(int,input().split()))\n",
    "print(*sorted(m))\n",
    "print(*sorted(m, reverse=True))"
   ]
  },
  {
   "cell_type": "code",
   "execution_count": 4,
   "id": "cf5fc6e0",
   "metadata": {},
   "outputs": [
    {
     "name": "stdout",
     "output_type": "stream",
     "text": [
      "5\n",
      "1 2 3 4 5\n"
     ]
    }
   ],
   "source": [
    "# Напишите программу, которая заполняет массив первыми N натуральными числами и выводит его.\n",
    "N = int(input())\n",
    "A = [i for i in range(1,N+1)]\n",
    "print(*A)"
   ]
  },
  {
   "cell_type": "code",
   "execution_count": null,
   "id": "3abf2909",
   "metadata": {},
   "outputs": [],
   "source": [
    "array = [n for n in range(1, int(input())+1)]\n",
    "print(*array)"
   ]
  },
  {
   "cell_type": "code",
   "execution_count": 5,
   "id": "ceb546b2",
   "metadata": {},
   "outputs": [
    {
     "name": "stdout",
     "output_type": "stream",
     "text": [
      "5\n",
      "5 4 3 2 1\n"
     ]
    }
   ],
   "source": [
    "# Напишите программу, которая заполняет массив первыми N натуральными числами \n",
    "# в обратном порядке (начиная с последнего) и выводит его.\n",
    "N = int(input())\n",
    "A = [i for i in range(1,N+1)]\n",
    "print(*A[::-1])"
   ]
  },
  {
   "cell_type": "code",
   "execution_count": null,
   "id": "4b6cb609",
   "metadata": {},
   "outputs": [],
   "source": [
    "n = int(input())\n",
    "lst = reversed(range(1, 1 + n))\n",
    "print(*lst)"
   ]
  },
  {
   "cell_type": "code",
   "execution_count": 6,
   "id": "5970e1fc",
   "metadata": {},
   "outputs": [
    {
     "name": "stdout",
     "output_type": "stream",
     "text": [
      "6 4\n",
      "9 8 7 6\n"
     ]
    }
   ],
   "source": [
    "# Напишите программу, которая заполняет массив из N элементов в обратном порядке последовательными натуральными числами, \n",
    "# начиная с последнего элемента, который должен быть равен X .\n",
    "x, n = map(int, input().split())\n",
    "A = [x+i for i in range(n)]\n",
    "print(*A[::-1])"
   ]
  },
  {
   "cell_type": "code",
   "execution_count": null,
   "id": "d3311f6d",
   "metadata": {},
   "outputs": [],
   "source": [
    "n, m = map(int, input().split())\n",
    "lst = reversed(range(n, m + n))\n",
    "print(*lst)"
   ]
  },
  {
   "cell_type": "code",
   "execution_count": 8,
   "id": "72c610e9",
   "metadata": {},
   "outputs": [
    {
     "name": "stdout",
     "output_type": "stream",
     "text": [
      "4 5\n",
      "4 5 6 7 8\n"
     ]
    }
   ],
   "source": [
    "# Напишите программу, которая заполняет массив из N элементов последовательными натуральными числами, начиная с X , и выводит его.\n",
    "x, n = map(int, input().split())\n",
    "A = [x+i for i in range(n)]\n",
    "print(*A)\n"
   ]
  },
  {
   "cell_type": "code",
   "execution_count": null,
   "id": "7bbcaee4",
   "metadata": {},
   "outputs": [],
   "source": [
    "n, m = map(int, input().split())\n",
    "lst = range(n, m + n)\n",
    "print(*lst)"
   ]
  },
  {
   "cell_type": "code",
   "execution_count": 9,
   "id": "f3d891db",
   "metadata": {},
   "outputs": [
    {
     "name": "stdout",
     "output_type": "stream",
     "text": [
      "5\n",
      "1 4 9 16 25\n"
     ]
    }
   ],
   "source": [
    "# Напишите программу, которая заполняет массив квадратами натуральных чисел от 1 до N .\n",
    "N = int(input())\n",
    "A = [i*i for i in range(1,N+1)]\n",
    "print(*A)"
   ]
  },
  {
   "cell_type": "code",
   "execution_count": null,
   "id": "11a12eba",
   "metadata": {},
   "outputs": [],
   "source": [
    "n = int(input())\n",
    "print(*[i * i for i in range(1, n + 1)])\n"
   ]
  },
  {
   "cell_type": "code",
   "execution_count": 10,
   "id": "0e7d31ba",
   "metadata": {},
   "outputs": [
    {
     "name": "stdout",
     "output_type": "stream",
     "text": [
      "5\n",
      "32 16 8 4 2\n"
     ]
    }
   ],
   "source": [
    "# Напишите программу, которая заполняет массив из N элементов степенями числа 2, начиная с 2 1 до 2 N , в обратном порядке.\n",
    "N = int(input())\n",
    "A = [2**i for i in range(1,N+1)]\n",
    "print(*A[::-1])"
   ]
  },
  {
   "cell_type": "code",
   "execution_count": null,
   "id": "d42b3db4",
   "metadata": {},
   "outputs": [],
   "source": [
    "n=int(input())\n",
    "a=[]\n",
    "b=2\n",
    "for i in range(n):\n",
    "    a.append(b**(n-i))\n",
    "print(*a)"
   ]
  },
  {
   "cell_type": "code",
   "execution_count": null,
   "id": "8b1ab22b",
   "metadata": {},
   "outputs": [],
   "source": []
  }
 ],
 "metadata": {
  "kernelspec": {
   "display_name": "Python 3 (ipykernel)",
   "language": "python",
   "name": "python3"
  },
  "language_info": {
   "codemirror_mode": {
    "name": "ipython",
    "version": 3
   },
   "file_extension": ".py",
   "mimetype": "text/x-python",
   "name": "python",
   "nbconvert_exporter": "python",
   "pygments_lexer": "ipython3",
   "version": "3.9.12"
  }
 },
 "nbformat": 4,
 "nbformat_minor": 5
}
