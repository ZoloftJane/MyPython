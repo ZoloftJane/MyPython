{
 "cells": [
  {
   "cell_type": "code",
   "execution_count": 15,
   "id": "7d7c87d9",
   "metadata": {},
   "outputs": [
    {
     "name": "stdout",
     "output_type": "stream",
     "text": [
      "4\n",
      "30\n"
     ]
    }
   ],
   "source": [
    "n = int(input())\n",
    "if n == 0 or n > 12:\n",
    "    print(0)\n",
    "elif n in [1,3,5,7,8,10,12]:\n",
    "    print (31)\n",
    "elif n == 2:\n",
    "    print (28)\n",
    "else:\n",
    "    print(30)\n",
    "\n"
   ]
  },
  {
   "cell_type": "code",
   "execution_count": 17,
   "id": "6cfd6cd2",
   "metadata": {},
   "outputs": [
    {
     "name": "stdout",
     "output_type": "stream",
     "text": [
      "2022\n",
      "NO\n"
     ]
    }
   ],
   "source": [
    "year = int(input())\n",
    "if (year != 0 or n < 30000) and year % 4 == 0 and year % 100 != 0 or year % 400 == 0:\n",
    "    print ('YES')\n",
    "else:\n",
    "    print ('NO')\n"
   ]
  },
  {
   "cell_type": "code",
   "execution_count": 19,
   "id": "1e852d3a",
   "metadata": {},
   "outputs": [
    {
     "name": "stdout",
     "output_type": "stream",
     "text": [
      "6\n",
      "5\n",
      "6\n"
     ]
    }
   ],
   "source": [
    "x = int(input())\n",
    "y = int(input())\n",
    "if x-y >0:\n",
    "    print (x)\n",
    "else:\n",
    "    print (y)"
   ]
  },
  {
   "cell_type": "code",
   "execution_count": 22,
   "id": "8836d3a7",
   "metadata": {},
   "outputs": [
    {
     "name": "stdout",
     "output_type": "stream",
     "text": [
      "0\n",
      "0\n"
     ]
    }
   ],
   "source": [
    "x = int(input())\n",
    "if x > 0:\n",
    "    print (1)\n",
    "elif x < 0:\n",
    "    print (-1)\n",
    "else:\n",
    "    print (0)"
   ]
  },
  {
   "cell_type": "code",
   "execution_count": 31,
   "id": "55108b44",
   "metadata": {},
   "outputs": [
    {
     "name": "stdout",
     "output_type": "stream",
     "text": [
      "11\n",
      "autumn\n"
     ]
    }
   ],
   "source": [
    "month = int(input())\n",
    "if month == 0 or month > 12:\n",
    "    print ('NO')\n",
    "elif month in [3, 4, 5]:\n",
    "    print ('spring')\n",
    "elif month in [6, 7, 8]:\n",
    "    print ('summer')\n",
    "elif month in [9, 10, 11]:\n",
    "    print ('autumn')\n",
    "else:\n",
    "    print ('winter')"
   ]
  },
  {
   "cell_type": "code",
   "execution_count": 35,
   "id": "ac2b8d9b",
   "metadata": {},
   "outputs": [
    {
     "name": "stdout",
     "output_type": "stream",
     "text": [
      "1\n",
      "1\n",
      "2\n",
      "2\n"
     ]
    }
   ],
   "source": [
    "x = int(input())\n",
    "y = int(input())\n",
    "z = int(input())\n",
    "if x==y and x==z and z==y:\n",
    "    print (3)\n",
    "elif x!=y and x!=z and z!=y:\n",
    "    print (0)\n",
    "else:\n",
    "    print (2)\n",
    "    "
   ]
  },
  {
   "cell_type": "code",
   "execution_count": null,
   "id": "9fcc8405",
   "metadata": {},
   "outputs": [],
   "source": []
  }
 ],
 "metadata": {
  "kernelspec": {
   "display_name": "Python 3 (ipykernel)",
   "language": "python",
   "name": "python3"
  },
  "language_info": {
   "codemirror_mode": {
    "name": "ipython",
    "version": 3
   },
   "file_extension": ".py",
   "mimetype": "text/x-python",
   "name": "python",
   "nbconvert_exporter": "python",
   "pygments_lexer": "ipython3",
   "version": "3.9.12"
  }
 },
 "nbformat": 4,
 "nbformat_minor": 5
}
