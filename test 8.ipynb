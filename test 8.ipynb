{
 "cells": [
  {
   "cell_type": "code",
   "execution_count": 4,
   "id": "9ba1c1da",
   "metadata": {},
   "outputs": [
    {
     "name": "stdout",
     "output_type": "stream",
     "text": [
      "hello world if you are\n",
      "5\n"
     ]
    }
   ],
   "source": [
    "# Дана строка, состоящая из слов, разделенных пробелами. \n",
    "# Определите, сколько в ней слов. Используйте для решения задачи метод count.\n",
    "print(input().count(' ')+1)\n"
   ]
  },
  {
   "cell_type": "code",
   "execution_count": 6,
   "id": "fd258f5d",
   "metadata": {},
   "outputs": [
    {
     "name": "stdout",
     "output_type": "stream",
     "text": [
      "Donald Ervin Knuth\n",
      "Knuth D.E.\n"
     ]
    }
   ],
   "source": [
    "# Напишите программу, которая преобразует строку, содержащую имя, отчество и фамилию человека, к форме <фамилия> <инициалы>\n",
    "s = list(map(str, input().split()))\n",
    "\n",
    "print(s[2] + ' ' + s[0][0] + '.' + s[1][0] + '.')"
   ]
  },
  {
   "cell_type": "code",
   "execution_count": 18,
   "id": "424757ed",
   "metadata": {},
   "outputs": [
    {
     "name": "stdout",
     "output_type": "stream",
     "text": [
      "abra cadabra fibra\n",
      "cadabra\n",
      "7\n"
     ]
    }
   ],
   "source": [
    "s = max(input().split(), key=len)\n",
    "print(s, len(s), sep='\\n')"
   ]
  },
  {
   "cell_type": "code",
   "execution_count": 19,
   "id": "342e4755",
   "metadata": {},
   "outputs": [
    {
     "name": "stdout",
     "output_type": "stream",
     "text": [
      "Hello, world!\n",
      "world! Hello,\n"
     ]
    }
   ],
   "source": [
    "# Дана строка, состоящая ровно из двух слов, разделенных пробелом. \n",
    "# Переставьте эти слова местами. Результат запишите в строку и выведите получившуюся строку.\n",
    "s = list(map(str, input().split()))\n",
    "print(s[1]+' '+s[0])"
   ]
  },
  {
   "cell_type": "code",
   "execution_count": 33,
   "id": "6d37abaf",
   "metadata": {},
   "outputs": [
    {
     "name": "stdout",
     "output_type": "stream",
     "text": [
      "C:\\WINDOWS\\MEDIA\\work.wav\n",
      "C:\n",
      "WINDOWS\n",
      "MEDIA\n",
      "work.wav\n"
     ]
    }
   ],
   "source": [
    "# В операционной системе Windows путь к файлу состоит из имени логического диска и названий каталогов, \n",
    "# в которых находится этот файл. Части пути разделены знаками \"\\\" (обратный слэш). \n",
    "# Требуется разбить заданный путь к файлу на части — имя диска и названия каталогов.\n",
    "a = [str(i) for i in input().split('\\\\')]\n",
    "for i in range(len(a)):\n",
    "    print(a[i], sep='\\n')"
   ]
  },
  {
   "cell_type": "code",
   "execution_count": null,
   "id": "929df2a4",
   "metadata": {},
   "outputs": [],
   "source": []
  },
  {
   "cell_type": "code",
   "execution_count": 41,
   "id": "f99b26a0",
   "metadata": {},
   "outputs": [
    {
     "name": "stdout",
     "output_type": "stream",
     "text": [
      "Bilbo.Baggins@bagend.hobbiton.shire.me\n",
      "Bilbo.Bagginsbagend.hobbiton.shire.me\n"
     ]
    }
   ],
   "source": [
    "# Дана строка. Удалите из этой строки все символы @.\n",
    "a = [str(i) for i in input()]\n",
    "a.remove('@')\n",
    "print(''.join([str(i) for i in a]))"
   ]
  },
  {
   "cell_type": "code",
   "execution_count": 49,
   "id": "dafd2be3",
   "metadata": {},
   "outputs": [
    {
     "name": "stdout",
     "output_type": "stream",
     "text": [
      "aabbccabadef\n",
      "bbbbccbbbdef\n",
      "4\n"
     ]
    }
   ],
   "source": [
    "# Напишите программу, которая заменяет в символьной строке все буквы a на буквы b (латинские, строчные).\n",
    "a = [str(i) for i in input()]\n",
    "c = 0\n",
    "for i in range(len(a)):\n",
    "    if a[i] == 'a':\n",
    "        a[i] = 'b'\n",
    "        c+=1\n",
    "print(*a, sep='')\n",
    "print(c)"
   ]
  },
  {
   "cell_type": "code",
   "execution_count": 54,
   "id": "81572052",
   "metadata": {},
   "outputs": [
    {
     "name": "stdout",
     "output_type": "stream",
     "text": [
      "Vasya is a pupil.\n",
      "is\n"
     ]
    }
   ],
   "source": [
    "# Напишите программу, которая выводит первое слово переданной её символьной строки. \n",
    "# Слово – это последовательность непробельных символов, ограниченная пробелами или концами строки.\n",
    "s = list(map(str, input().split()))\n",
    "print(s[1])"
   ]
  },
  {
   "cell_type": "code",
   "execution_count": 65,
   "id": "95b42f7f",
   "metadata": {},
   "outputs": [
    {
     "name": "stdout",
     "output_type": "stream",
     "text": [
      "banan\n",
      "NO\n"
     ]
    }
   ],
   "source": [
    "# Напишите программу, которая определяет, является ли введённое слово (без пробелов) палиндромом, \n",
    "# то есть верно ли, что оно читается одинаково слева направо и справа налево.\n",
    "a = input() \n",
    "print('YES' if a == a[::-1] else 'NO')\n"
   ]
  },
  {
   "cell_type": "code",
   "execution_count": 77,
   "id": "e7f349d4",
   "metadata": {},
   "outputs": [
    {
     "name": "stdout",
     "output_type": "stream",
     "text": [
      "Abrakadabra\n",
      "r\n",
      "r\n",
      "Abrak\n",
      "Abrakadab\n",
      "Arkdba\n",
      "baaar\n",
      "arbadakarbA\n",
      "abdkrA\n",
      "11\n"
     ]
    }
   ],
   "source": [
    "# Дана строка.\n",
    "a = input() \n",
    "# Сначала выведите третий символ этой строки.\n",
    "print(a[2])\n",
    "# Во второй строке выведите предпоследний символ этой строки.\n",
    "print(a[-2])\n",
    "# В третьей строке выведите первые пять символов этой строки.\n",
    "print(a[:5])\n",
    "# В четвертой строке выведите всю строку, кроме последних двух символов.\n",
    "print(a[:-2])\n",
    "# В пятой строке выведите все символы с четными индексами (считая, что индексация начинается с 0, поэтому символы выводятся начиная с первого).\n",
    "print(a[::2])\n",
    "# В шестой строке выведите все символы с нечетными индексами, то есть начиная со второго символа строки.\n",
    "print(a[1::2])\n",
    "# В седьмой строке выведите все символы в обратном порядке.\n",
    "print(a[::-1])\n",
    "# В восьмой строке выведите все символы строки через один в обратном порядке, начиная с последнего.\n",
    "print(a[::-2])\n",
    "# В девятой строке выведите длину данной строки.\n",
    "print(len(a))"
   ]
  },
  {
   "cell_type": "code",
   "execution_count": null,
   "id": "89eec432",
   "metadata": {},
   "outputs": [],
   "source": []
  }
 ],
 "metadata": {
  "kernelspec": {
   "display_name": "Python 3 (ipykernel)",
   "language": "python",
   "name": "python3"
  },
  "language_info": {
   "codemirror_mode": {
    "name": "ipython",
    "version": 3
   },
   "file_extension": ".py",
   "mimetype": "text/x-python",
   "name": "python",
   "nbconvert_exporter": "python",
   "pygments_lexer": "ipython3",
   "version": "3.9.12"
  }
 },
 "nbformat": 4,
 "nbformat_minor": 5
}
