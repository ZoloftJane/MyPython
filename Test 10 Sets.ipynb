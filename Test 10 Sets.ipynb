{
 "cells": [
  {
   "cell_type": "code",
   "execution_count": 3,
   "id": "40577a13",
   "metadata": {},
   "outputs": [
    {
     "name": "stdout",
     "output_type": "stream",
     "text": [
      "abc13a1b2z3c\n",
      "abc132z\n"
     ]
    }
   ],
   "source": [
    "# Напишите программу, которая удаляет из строки все повторяющиеся символы.\n",
    "# abc13a1b2z3c - > abc132z\n",
    "a = set()\n",
    "st = input()\n",
    "s = ''\n",
    "for x in st:\n",
    "    if x not in a: \n",
    "        a.add(x)\n",
    "        s+=x\n",
    "print(s)"
   ]
  },
  {
   "cell_type": "code",
   "execution_count": null,
   "id": "c3103f4b",
   "metadata": {},
   "outputs": [],
   "source": [
    "isstart = list(input())\n",
    "isx = set(isstart)\n",
    "for i in isstart:\n",
    "    if i in isx:\n",
    "        isx.remove(i)\n",
    "        print(i, end= '')"
   ]
  },
  {
   "cell_type": "code",
   "execution_count": null,
   "id": "428796e8",
   "metadata": {},
   "outputs": [],
   "source": [
    "# Напишите программу, которая определяет правильность записи целого числа в восьмеричной системе счисления.\n",
    "# Программа должна вывести ответ 'YES', если строка представляет собой правильную запись целого числа в восьмеричной системе счисления, \n",
    "# и 'NO', если запись ошибочна.\n",
    "# 12345 -> YES , 1a234 - > NO\n",
    "a = {'0','1','2','3','4','5','6','7'}\n",
    "b = input()\n",
    "if set(b)<=a and b[0]!='0':\n",
    "    print('YES')\n",
    "else: \n",
    "    print('NO')"
   ]
  },
  {
   "cell_type": "code",
   "execution_count": null,
   "id": "c1050804",
   "metadata": {},
   "outputs": [],
   "source": [
    "s = input()\n",
    "t = sum(1 for i in s if (not i.isdigit()) or int(i) > 7)\n",
    "if t or s[0] == '0':\n",
    "    print(\"NO\")\n",
    "else:\n",
    "    print(\"YES\")"
   ]
  },
  {
   "cell_type": "code",
   "execution_count": null,
   "id": "44b0ab06",
   "metadata": {},
   "outputs": [],
   "source": [
    "# Напишите программу, которая выводит все цифры, встречающиеся в символьной строке больше одного раза.\n",
    "# Программа должна вывести в одну строчку в порядке возрастания все цифры, встречающиеся во входной строке больше одного раза. \n",
    "# Если таких цифр нет, нужно вывести слово 'NO'.\n",
    "# asd12gh23 - > 2\n",
    "a = set()\n",
    "st = input()\n",
    "b = set()\n",
    "for x in st:\n",
    "    if '0'<=x<='9' and x not in a: \n",
    "        a.add(x)\n",
    "    elif x in a:\n",
    "        b.add(x)\n",
    "if len(b)>0:\n",
    "    b=sorted(list(b))\n",
    "    print(*b,sep='')\n",
    "else: \n",
    "    print('NO')"
   ]
  },
  {
   "cell_type": "code",
   "execution_count": null,
   "id": "36f6c91a",
   "metadata": {},
   "outputs": [],
   "source": [
    "D={}\n",
    "a=str(input())\n",
    "for i in range(len(a)):\n",
    "    for j in range(10):\n",
    "        if a[i]==str(j):\n",
    "            D[a[i]]=D.get(a[i],0)+1\n",
    "for i in sorted(D):\n",
    "    if D[i]>1:\n",
    "        j=0\n",
    "        print(i,end=\"\")\n",
    "if j!=0:\n",
    "    print(\"NO\")"
   ]
  },
  {
   "cell_type": "code",
   "execution_count": null,
   "id": "4cf0a8f0",
   "metadata": {},
   "outputs": [],
   "source": [
    "# Напишите программу, которая считает знаки пунктуации в символьной строке. \n",
    "# К знакам пунктуации относятся символы из набора \".,;:!?\".\n",
    "# Hi, guys! - > 2\n",
    "a = set('.,;:!?')\n",
    "st = input()\n",
    "k = 0\n",
    "for x in st:\n",
    "      if x in a: k+=1\n",
    "print(k)"
   ]
  },
  {
   "cell_type": "code",
   "execution_count": null,
   "id": "c1117da7",
   "metadata": {},
   "outputs": [],
   "source": [
    "punkt= \".,;:!?\"\n",
    "x = set()\n",
    "a = input()\n",
    "for i in a:\n",
    "    if i in punkt:\n",
    "        x.add(i)\n",
    "print(len(x))"
   ]
  },
  {
   "cell_type": "code",
   "execution_count": null,
   "id": "0ba69041",
   "metadata": {},
   "outputs": [],
   "source": [
    "# Напишите программу, которая находит все различные цифры в символьной строке.\n",
    "# Программа должна вывести в одной строке все различные цифры, которые встречаются в исходной строке, в порядке возрастания. \n",
    "# Если в строке нет цифр, нужно вывести слово 'NO'.\n",
    "# ab1n32kz2 - > 123\n",
    "a = set()\n",
    "st = input()\n",
    "for x in st:\n",
    "    if '0'<=x<='9' and x not in a: \n",
    "        a.add(x)\n",
    "if len(a)>0:\n",
    "    b=sorted(list(a))\n",
    "    print(*b,sep='')\n",
    "else :   \n",
    "    print('NO')\n"
   ]
  },
  {
   "cell_type": "code",
   "execution_count": null,
   "id": "1158959d",
   "metadata": {},
   "outputs": [],
   "source": [
    "a = sorted(set(i for i in input() if i.isdigit()))\n",
    "if len(a) == 0:\n",
    "    print(\"NO\")\n",
    "else:\n",
    "    for i in a:\n",
    "        print(i, end='')"
   ]
  },
  {
   "cell_type": "code",
   "execution_count": null,
   "id": "47c9aa81",
   "metadata": {},
   "outputs": [],
   "source": [
    "# Напишите программу, которая определяет количество различных символов, встречающихся в символьной строке.\n",
    "# aB122AB - > 5\n",
    "a = set(input())\n",
    "print(len(a))"
   ]
  },
  {
   "cell_type": "code",
   "execution_count": null,
   "id": "208ab92e",
   "metadata": {},
   "outputs": [],
   "source": [
    "a = str(input())\n",
    "D = {}\n",
    "k = 0\n",
    "for i in range(len(a)):\n",
    "    D[a[i]] = D.get ( a[i], 0 ) + 1\n",
    "for i in D:\n",
    "    k = k+1\n",
    "print(k)"
   ]
  },
  {
   "cell_type": "code",
   "execution_count": null,
   "id": "5eef23e9",
   "metadata": {},
   "outputs": [],
   "source": []
  }
 ],
 "metadata": {
  "kernelspec": {
   "display_name": "Python 3 (ipykernel)",
   "language": "python",
   "name": "python3"
  },
  "language_info": {
   "codemirror_mode": {
    "name": "ipython",
    "version": 3
   },
   "file_extension": ".py",
   "mimetype": "text/x-python",
   "name": "python",
   "nbconvert_exporter": "python",
   "pygments_lexer": "ipython3",
   "version": "3.9.12"
  }
 },
 "nbformat": 4,
 "nbformat_minor": 5
}
