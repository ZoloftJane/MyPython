{
 "cells": [
  {
   "cell_type": "code",
   "execution_count": null,
   "id": "876af90c",
   "metadata": {},
   "outputs": [],
   "source": [
    "# Даны два целых числа A и B (при этом A ≤ B). Выведите все числа от A до B включительно.\n",
    "A = int(input())\n",
    "B = int(input())\n",
    "for C in range(A,B+1):\n",
    "    print(C, end=' ')"
   ]
  },
  {
   "cell_type": "code",
   "execution_count": null,
   "id": "3ceebea0",
   "metadata": {},
   "outputs": [],
   "source": [
    "# Даны два целых числа A и В. \n",
    "# Выведите все числа от A до B включительно, в порядке возрастания, если A < B, или в порядке убывания в противном случае.\n",
    "A = int(input())\n",
    "B = int(input())\n",
    "if A<B:\n",
    "    for C in range(A,B+1):\n",
    "        print(C, end=' ')\n",
    "else:\n",
    "    for C in range (A,B-1,-1):\n",
    "        print(C, end=' ')\n"
   ]
  },
  {
   "cell_type": "code",
   "execution_count": null,
   "id": "dcf9fe4d",
   "metadata": {},
   "outputs": [],
   "source": [
    "# Даны два целых числа A и В, A>B. Выведите все нечётные числа от A до B включительно, в порядке убывания.\n",
    "A = int(input())\n",
    "B = int(input())\n",
    "C = A%2\n",
    "while A>=B and C!=0:\n",
    "    print(A, end=' ')\n",
    "    A -= 2\n",
    "    C = A%2\n",
    "else:\n",
    "    A -= 1\n",
    "while A>=B:\n",
    "    print(A, end=' ')\n",
    "    A -= 2\n",
    "   \n",
    "\n",
    "    "
   ]
  },
  {
   "cell_type": "code",
   "execution_count": null,
   "id": "26d220b6",
   "metadata": {},
   "outputs": [],
   "source": [
    "# Вводятся целые числа a и b. Гарантируется, что a не превосходит b.\n",
    "# Выходные данные.Выведите (через пробел) все четные числа от a до b (включительно).\n",
    "a = int(input())\n",
    "b = int(input())\n",
    "C = a%2\n",
    "while a<=b and C==0:\n",
    "    print(a, end=' ')\n",
    "    a += 2\n",
    "    C = a%2\n",
    "else:\n",
    "    a += 1\n",
    "while a<=b:\n",
    "    print(a, end=' ')\n",
    "    a += 2"
   ]
  },
  {
   "cell_type": "code",
   "execution_count": null,
   "id": "415c81aa",
   "metadata": {},
   "outputs": [],
   "source": [
    "# Напишите программу, которая вводит два целых числа и находит их произведение, не используя операцию умножения. \n",
    "# Учтите, что числа могут быть отрицательными.\n",
    "a = int(input())\n",
    "b = int(input())\n",
    "c = 0\n",
    "if b > 0:\n",
    "    for i in range (b):\n",
    "        c=c+a\n",
    "else:\n",
    "    for i in range (-b):  \n",
    "        c=c-a\n",
    "print(c)"
   ]
  },
  {
   "cell_type": "code",
   "execution_count": 2,
   "id": "06a33c0a",
   "metadata": {},
   "outputs": [
    {
     "name": "stdout",
     "output_type": "stream",
     "text": [
      "1\n",
      "6\n",
      "1\n",
      "4\n"
     ]
    }
   ],
   "source": [
    "# Выведите все числа на отрезке от a до b, являющиеся полными квадратами. Если таких чисел нет, то ничего выводить не нужно.\n",
    "# Гарантируется, что a не превосходит b.\n",
    "a = int(input())\n",
    "b = int(input())\n",
    "if a > 4:\n",
    "    c = int(a**0.5+1)\n",
    "elif a == 4:\n",
    "     c = int(a**0.5)\n",
    "else:\n",
    "    c = int(a)\n",
    "d = int(b**0.5+1)\n",
    "for i in range (c,d):\n",
    "    print(i**2)\n",
    "       "
   ]
  },
  {
   "cell_type": "code",
   "execution_count": null,
   "id": "35af9868",
   "metadata": {},
   "outputs": [],
   "source": [
    "# Факториалом числа n называется произведение 1 × 2 × ... × n. Обозначение: n!.\n",
    "n = int(input())\n",
    "c=1\n",
    "for i in range(1,n):\n",
    "    c=c+c*i\n",
    "print(c)"
   ]
  },
  {
   "cell_type": "code",
   "execution_count": null,
   "id": "a3c6d9ca",
   "metadata": {},
   "outputs": [],
   "source": [
    "# Вводится число N, а затем N чисел. Подсчитайте и выведите, сколько среди данных N чисел нулей.\n",
    "zeroes = 0\n",
    "N = int(input())\n",
    "for i in range(N):\n",
    "    i = int(input())\n",
    "    if i == 0:\n",
    "        zeroes += 1\n",
    "print(zeroes)"
   ]
  },
  {
   "cell_type": "code",
   "execution_count": null,
   "id": "6e989814",
   "metadata": {},
   "outputs": [],
   "source": [
    "# Выведите все натуральные делители числа x в порядке возрастания (включая 1 и само число).\n",
    "x = int(input())\n",
    "for i in range(1,(x+1)):\n",
    "    if x%i==0:\n",
    "        print(i, end=' ')"
   ]
  },
  {
   "cell_type": "code",
   "execution_count": null,
   "id": "0c16f98e",
   "metadata": {},
   "outputs": [],
   "source": [
    "# Напишите программу, которая считает сумму цифр введённого числа.\n",
    "x = int(input())\n",
    "z = 0\n",
    "while x>0:\n",
    "    z = z+x%10\n",
    "    x = x//10\n",
    "print(z)"
   ]
  },
  {
   "cell_type": "code",
   "execution_count": null,
   "id": "84b610f7",
   "metadata": {},
   "outputs": [],
   "source": [
    "# Определите сумму всех элементов последовательности, завершающейся числом 0.\n",
    "# Вводится последовательность целых чисел, оканчивающаяся числом 0 \n",
    "# (само число 0 в последовательность не входит, а служит как признак ее окончания).\n",
    "z = 0\n",
    "x = int(input())\n",
    "while x !=0:\n",
    "    z = z + x\n",
    "    x = int(input())\n",
    "print(z)"
   ]
  },
  {
   "cell_type": "code",
   "execution_count": 8,
   "id": "21d50b7e",
   "metadata": {},
   "outputs": [
    {
     "name": "stdout",
     "output_type": "stream",
     "text": [
      "5\n",
      "6\n",
      "7\n",
      "0\n",
      "7\n"
     ]
    }
   ],
   "source": [
    "# Последовательность состоит из натуральных чисел, не превосходящих 109109, и завершается числом 0. \n",
    "# Определите значение наибольшего элемента последовательности.\n",
    "max = 0\n",
    "x = int(input())\n",
    "while x != 0:\n",
    "    x = int(input())\n",
    "    if x > max:\n",
    "        max = x\n",
    "print(max)"
   ]
  },
  {
   "cell_type": "code",
   "execution_count": 6,
   "id": "1d954a3a",
   "metadata": {},
   "outputs": [
    {
     "name": "stdout",
     "output_type": "stream",
     "text": [
      "7\n",
      "13\n"
     ]
    }
   ],
   "source": [
    "# По данному числу nn определите nn-е число Фибоначчи .\n",
    "nn = int(input())\n",
    "F1 = 1\n",
    "F2 = 1\n",
    "for i in range(nn-2):\n",
    "    Fnn = F1+F2\n",
    "    F1 = F2\n",
    "    F2 = Fnn\n",
    "    i = i + 1\n",
    "print(Fnn)"
   ]
  },
  {
   "cell_type": "code",
   "execution_count": 10,
   "id": "cc03f691",
   "metadata": {},
   "outputs": [
    {
     "name": "stdout",
     "output_type": "stream",
     "text": [
      "1\n",
      "5\n",
      "4\n",
      "6\n",
      "0\n",
      "2\n"
     ]
    }
   ],
   "source": [
    "# Последовательность состоит из натуральных чисел и завершается числом 0. \n",
    "# Определите, сколько элементов этой последовательности больше предыдущего элемента.\n",
    "num_big = 0\n",
    "big = 0 \n",
    "x = int(input())\n",
    "while x != 0:\n",
    "    x = int(input())\n",
    "    if x > big:\n",
    "        big = x\n",
    "        num_big = num_big + 1\n",
    "print(num_big)"
   ]
  },
  {
   "cell_type": "code",
   "execution_count": 12,
   "id": "51540a9f",
   "metadata": {},
   "outputs": [
    {
     "name": "stdout",
     "output_type": "stream",
     "text": [
      "5\n",
      "*****\n",
      "*****\n",
      "*****\n",
      "*****\n",
      "*****\n"
     ]
    }
   ],
   "source": [
    "# вывести квадрат из звуздочек с шириной и длиной, равными введеной N\n",
    "N = int(input())\n",
    "for i in range(N):\n",
    "    print('*'*N)"
   ]
  },
  {
   "cell_type": "code",
   "execution_count": 14,
   "id": "d8e009d5",
   "metadata": {},
   "outputs": [
    {
     "name": "stdout",
     "output_type": "stream",
     "text": [
      "3\n",
      "14\n"
     ]
    }
   ],
   "source": [
    "# На вход программе подается натуральное число N.\n",
    "# Напишите программу, которая находит сумму квадратов всех чисел от 1 до N\n",
    "N = int(input())\n",
    "summary = 0\n",
    "for i in range(1,(N+1)):\n",
    "    summary = summary+i**2\n",
    "print(summary)"
   ]
  },
  {
   "cell_type": "code",
   "execution_count": null,
   "id": "87bb8da8",
   "metadata": {},
   "outputs": [],
   "source": []
  }
 ],
 "metadata": {
  "kernelspec": {
   "display_name": "Python 3 (ipykernel)",
   "language": "python",
   "name": "python3"
  },
  "language_info": {
   "codemirror_mode": {
    "name": "ipython",
    "version": 3
   },
   "file_extension": ".py",
   "mimetype": "text/x-python",
   "name": "python",
   "nbconvert_exporter": "python",
   "pygments_lexer": "ipython3",
   "version": "3.9.12"
  }
 },
 "nbformat": 4,
 "nbformat_minor": 5
}
