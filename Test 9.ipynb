{
 "cells": [
  {
   "cell_type": "code",
   "execution_count": 13,
   "id": "db0619a7",
   "metadata": {},
   "outputs": [
    {
     "name": "stdout",
     "output_type": "stream",
     "text": [
      "5 8 9 44 55\n",
      "8 5 44 9 55\n"
     ]
    }
   ],
   "source": [
    "# Переставьте соседние элементы списка (A[0] c A[1], A[2] c A[3] и т.д.). \n",
    "# Если элементов нечетное число, то последний элемент остается на своем месте.\n",
    "a = list(map(int, input().split()))\n",
    "for i in range(1,len(a),2):\n",
    "    a[i-1], a[i] = a[i], a[i-1]\n",
    "print(*a)"
   ]
  },
  {
   "cell_type": "code",
   "execution_count": null,
   "id": "92c5eccb",
   "metadata": {},
   "outputs": [],
   "source": [
    "# В списке все элементы различны. Поменяйте местами минимальный и максимальный элемент этого списка.\n",
    "a = [int(i) for i in input().split()]\n",
    "minim = 0\n",
    "maxim = 0\n",
    "for i in range(1,len(a)):\n",
    "    if a[i] > a[maxim]:\n",
    "        maxim = i\n",
    "    if a[i] < a[minim]:\n",
    "        minim = i    \n",
    "a[minim], a[maxim] = a[maxim], a[minim] \n",
    "print ( )"
   ]
  },
  {
   "cell_type": "code",
   "execution_count": null,
   "id": "7140fb8d",
   "metadata": {},
   "outputs": [],
   "source": [
    "# Дан список. Не изменяя его и не используя дополнительные списки, определите, какое число в этом списке встречается чаще всего.\n",
    "a = [int(i) for i in input().split()]\n",
    "b = 0\n",
    "c = 0\n",
    "for i in range(0,len(a)):\n",
    "    if a.count(a[i]) > c:\n",
    "        c = a.count(a[i])\n",
    "        b = a[i]\n",
    "print(b)"
   ]
  },
  {
   "cell_type": "code",
   "execution_count": null,
   "id": "fee1f10d",
   "metadata": {},
   "outputs": [],
   "source": [
    "# Выведите все элементы списка с четными индексами (то есть A[0], A[2], A[4], ...).\n",
    "a = [int(i) for i in input().split()]\n",
    "for i in range(0, len(a), 2):\n",
    "    print(a[i], end=' ')"
   ]
  },
  {
   "cell_type": "code",
   "execution_count": 3,
   "id": "c40b5ba7",
   "metadata": {},
   "outputs": [
    {
     "name": "stdout",
     "output_type": "stream",
     "text": [
      "3 5 11 77\n",
      "-1\n"
     ]
    }
   ],
   "source": [
    "# Напишите программу, которая считывает массив определяет максимальный среди чётных положительных элементов этого массива.\n",
    "a = [int(i) for i in input().split()]\n",
    "M = 0\n",
    "for i in range(len(a)):\n",
    "    if a[i] > M and a[i]%2 == 0 and a[i]>0:\n",
    "        M = a[i]\n",
    "if M == 0:\n",
    "    print(-1)\n",
    "else:\n",
    "    print(M)"
   ]
  },
  {
   "cell_type": "code",
   "execution_count": 12,
   "id": "876a4ba0",
   "metadata": {},
   "outputs": [
    {
     "name": "stdout",
     "output_type": "stream",
     "text": [
      "92 138 91 161 185 135 93 182 53 82\n",
      "3\n"
     ]
    }
   ],
   "source": [
    "# Напишите программу, которая заполняет массив и определяет количество положительных трёхзначных чисел в этом массиве, \n",
    "# которые не делятся на 5.\n",
    "a = [int(i) for i in input().split()]\n",
    "c = 0\n",
    "for i in range(len(a)):\n",
    "    if a[i] > 99 and a[i] < 1000 and a[i]%5 != 0 :\n",
    "        c += 1\n",
    "print(c)"
   ]
  },
  {
   "cell_type": "code",
   "execution_count": null,
   "id": "63039b63",
   "metadata": {},
   "outputs": [],
   "source": []
  }
 ],
 "metadata": {
  "kernelspec": {
   "display_name": "Python 3 (ipykernel)",
   "language": "python",
   "name": "python3"
  },
  "language_info": {
   "codemirror_mode": {
    "name": "ipython",
    "version": 3
   },
   "file_extension": ".py",
   "mimetype": "text/x-python",
   "name": "python",
   "nbconvert_exporter": "python",
   "pygments_lexer": "ipython3",
   "version": "3.9.12"
  }
 },
 "nbformat": 4,
 "nbformat_minor": 5
}
