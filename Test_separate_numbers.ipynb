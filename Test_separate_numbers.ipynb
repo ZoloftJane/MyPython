{
 "cells": [
  {
   "cell_type": "code",
   "execution_count": null,
   "id": "2759630d",
   "metadata": {},
   "outputs": [],
   "source": [
    "# На вход программе подается натуральное число. Найдите количество цифр не больше 6 в числе.\n",
    "x = int(input())\n",
    "z = 0\n",
    "while x>0:\n",
    "    x = x//10\n",
    "    if x%10 <= 6:\n",
    "        z = z + 1\n",
    "print(z)"
   ]
  },
  {
   "cell_type": "code",
   "execution_count": null,
   "id": "b39e2db1",
   "metadata": {},
   "outputs": [],
   "source": [
    "# На вход программе подается 2 натуральных числа. Определите у какого числа сумма цифр больше. \n",
    "# В ответе выведите 1, если сумма цифр 1 числа больше, 2, если второго, 0 если сума цифр одинаковая\n",
    "a, b = int(input()), int(input())\n",
    "x, y = 0, 0\n",
    "while a>0:\n",
    "    x = x+a%10\n",
    "    a = a//10\n",
    "while b>0:\n",
    "    y = y+b%10\n",
    "    b = b//10\n",
    "if x>y:\n",
    "    print(1)\n",
    "elif x<y:\n",
    "    print(2)\n",
    "else:\n",
    "    print(0)"
   ]
  },
  {
   "cell_type": "code",
   "execution_count": null,
   "id": "71a29570",
   "metadata": {},
   "outputs": [],
   "source": [
    "# На вход программе подается натуральное число. \n",
    "# Найдите самую маленькую цифру числа. При решении этой задачи повторите тему поиска минимума.\n",
    "x = int(input())\n",
    "minim = 10\n",
    "while x > 0:\n",
    "    z = x%10\n",
    "    x = x//10   \n",
    "    if minim > z:\n",
    "        minim = z\n",
    "print(minim)"
   ]
  },
  {
   "cell_type": "code",
   "execution_count": null,
   "id": "8c510224",
   "metadata": {},
   "outputs": [],
   "source": [
    "# На вход программе подается натуральное число. Напишите программу, которая выводит первую цифру числа.\n",
    "x = int(input())\n",
    "while x > 10:\n",
    "    x = x//10\n",
    "print(x)"
   ]
  },
  {
   "cell_type": "code",
   "execution_count": null,
   "id": "17b5b39e",
   "metadata": {},
   "outputs": [],
   "source": []
  }
 ],
 "metadata": {
  "kernelspec": {
   "display_name": "Python 3 (ipykernel)",
   "language": "python",
   "name": "python3"
  },
  "language_info": {
   "codemirror_mode": {
    "name": "ipython",
    "version": 3
   },
   "file_extension": ".py",
   "mimetype": "text/x-python",
   "name": "python",
   "nbconvert_exporter": "python",
   "pygments_lexer": "ipython3",
   "version": "3.9.12"
  }
 },
 "nbformat": 4,
 "nbformat_minor": 5
}
