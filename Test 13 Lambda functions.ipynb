{
 "cells": [
  {
   "cell_type": "code",
   "execution_count": 2,
   "id": "c5cbde76",
   "metadata": {},
   "outputs": [
    {
     "name": "stdout",
     "output_type": "stream",
     "text": [
      "219 234 890 81 73 96\n",
      "890 81 73 234 96 219\n"
     ]
    }
   ],
   "source": [
    "# Напишите программу, которая сортирует элементы массива по возрастанию последней цифры десятичной записи чисел. \n",
    "# Используя lambda- функции.\n",
    "a=list(map(int, input().split()))\n",
    "print(*sorted(a, key=lambda x: x % 10)) "
   ]
  },
  {
   "cell_type": "code",
   "execution_count": 4,
   "id": "22b58f75",
   "metadata": {},
   "outputs": [
    {
     "name": "stdout",
     "output_type": "stream",
     "text": [
      "9 21 32 55 81 11\n",
      "55 9 81 32 21 11\n"
     ]
    }
   ],
   "source": [
    "# Напишите программу, которая сортирует натуральные числа в массиве по убыванию суммы цифр десятичной записи числа. \n",
    "# При равенстве сумм цифр числа должны сохранить исходный порядок. Использовать lambda-функции.\n",
    "a=list(map(int, input().split()))\n",
    "print(*sorted(a, key=lambda x: x//100 + x%100//10 + x % 10, reverse=True)) "
   ]
  },
  {
   "cell_type": "code",
   "execution_count": null,
   "id": "cd3f68f5",
   "metadata": {},
   "outputs": [],
   "source": []
  }
 ],
 "metadata": {
  "kernelspec": {
   "display_name": "Python 3 (ipykernel)",
   "language": "python",
   "name": "python3"
  },
  "language_info": {
   "codemirror_mode": {
    "name": "ipython",
    "version": 3
   },
   "file_extension": ".py",
   "mimetype": "text/x-python",
   "name": "python",
   "nbconvert_exporter": "python",
   "pygments_lexer": "ipython3",
   "version": "3.9.12"
  }
 },
 "nbformat": 4,
 "nbformat_minor": 5
}
