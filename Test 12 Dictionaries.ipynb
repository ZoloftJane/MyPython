{
 "cells": [
  {
   "cell_type": "code",
   "execution_count": null,
   "id": "1315c398",
   "metadata": {},
   "outputs": [],
   "source": [
    "# В единственной строке записан текст. \n",
    "# Для каждого слова из данного текста подсчитайте, сколько раз оно встречалось в этом тексте ранее.\n",
    "# Словом считается последовательность непробельных символов идущих подряд, слова разделены одним или большим числом пробелов или символами конца строки.\n",
    "d = dict()\n",
    "s = input().split()\n",
    "for i in s:\n",
    "    print(d.get(i,0), end=' ')\n",
    "    d[i] = d.get(i,0) + 1    "
   ]
  },
  {
   "cell_type": "code",
   "execution_count": null,
   "id": "099d5865",
   "metadata": {},
   "outputs": [],
   "source": [
    "# Вам дан словарь, состоящий из пар слов. \n",
    "# Каждое слово является синонимом к парному ему слову. Все слова в словаре различны.\n",
    "# Для слова из словаря, записанного в последней строке, определите его синоним.\n",
    "d = dict()\n",
    "n = int(input())\n",
    "for i in range(n):\n",
    "    a, b = input().split()\n",
    "    d[a] = b\n",
    "    d[b] = a\n",
    "print(d[input()])"
   ]
  },
  {
   "cell_type": "code",
   "execution_count": 3,
   "id": "99a5ca74",
   "metadata": {},
   "outputs": [
    {
     "name": "stdout",
     "output_type": "stream",
     "text": [
      "3\n",
      "hello hi\n",
      "goodbye bye\n",
      "massive array\n",
      "bye\n",
      "hello -> hi\n",
      "goodbye -> bye\n",
      "massive -> array\n"
     ]
    }
   ],
   "source": [
    "n = int(input())\n",
    "p = {}\n",
    "p = dict(input().split() for j in range(n))\n",
    "k = input()\n",
    "for key, value in p.items():\n",
    "    print(key,'->',value) "
   ]
  },
  {
   "cell_type": "code",
   "execution_count": 17,
   "id": "ea5803d3",
   "metadata": {},
   "outputs": [
    {
     "name": "stdout",
     "output_type": "stream",
     "text": [
      "5\n",
      "vgg 10\n",
      "vgg 15\n",
      "cvv 5\n",
      "cvv 1\n",
      "vgg 1\n",
      "cvv 6\n",
      "vgg 26\n"
     ]
    }
   ],
   "source": [
    "# Как известно, в США президент выбирается не прямым голосованием, а путем двухуровневого голосования. Сначала проводятся выборы в каждом штате и определяется победитель выборов в данном штате. \n",
    "# Затем проводятся государственные выборы: на этих выборах каждый штат имеет определенное число голосов — число выборщиков от этого штата. На практике, все выборщики от штата голосуют в соответствии с результами голосования внутри штата, \n",
    "# то есть на заключительной стадии выборов в голосовании участвуют штаты, имеющие различное число голосов.\n",
    "# В первой строке дано количество записей. \n",
    "# Далее, каждая запись содержит фамилию кандидата и число голосов, отданных за него в одном из штатов. \n",
    "# Подведите итоги выборов: для каждого из участника голосования определите число отданных за него голосов. \n",
    "# Участников нужно выводить в алфавитном порядке.\n",
    "num_votes = {}\n",
    "for i in range(int(input())):\n",
    "    name, votes = input().split()\n",
    "    num_votes[name] = num_votes.get(name, 0) + int(votes)\n",
    "for name, votes in sorted(num_votes.items()):\n",
    "    print(name, votes)\n"
   ]
  },
  {
   "cell_type": "code",
   "execution_count": null,
   "id": "8ce616ba",
   "metadata": {},
   "outputs": [],
   "source": [
    "# Программа для сортировки словаря по ключу\n",
    "d = {'ref':5, 'h':7, 'a':1}\n",
    "for key in  sorted(d):\n",
    "    print(key, d[key])"
   ]
  },
  {
   "cell_type": "code",
   "execution_count": null,
   "id": "0e00ebd1",
   "metadata": {},
   "outputs": [],
   "source": [
    "# Программа для перебора словарей с использованием циклов for\n",
    "d = {'x': 10, 'y': 20, 'z': 30} \n",
    "for dict_key, dict_value in d.items(): \n",
    "    print(dict_key,'->',dict_value) "
   ]
  },
  {
   "cell_type": "code",
   "execution_count": null,
   "id": "d5d3c482",
   "metadata": {},
   "outputs": [],
   "source": [
    "# Программа для создания и печати словаря, содержащего число (от 1 до n) в форме (x, x * x)\n",
    "n=int(input(\"Input a number \")) \n",
    "d = dict() \n",
    "for x in range(1,n+1): \n",
    "    d[x]=x*x \n",
    "    print(d) "
   ]
  },
  {
   "cell_type": "code",
   "execution_count": null,
   "id": "bbd3775b",
   "metadata": {},
   "outputs": [],
   "source": [
    "# ПРограмма для суммирования всех элементов словаря\n",
    "my_dict = {'data1':100,'data2':-54,'data3':247} \n",
    "print(sum(my_dict.values())) "
   ]
  },
  {
   "cell_type": "code",
   "execution_count": null,
   "id": "1127a61e",
   "metadata": {},
   "outputs": [],
   "source": [
    "# Программа для удаления ключа из словаря\n",
    "myDict = {'a':1,'b':2,'c':3,'d':4} \n",
    "print(myDict) \n",
    "if 'a' in myDict: \n",
    "    del myDict['a'] \n",
    "print(myDict)  "
   ]
  },
  {
   "cell_type": "code",
   "execution_count": null,
   "id": "c0f51245",
   "metadata": {},
   "outputs": [],
   "source": [
    "# ПРограмма для сортировки словаря по ключу\n",
    "color_dict = {'red':'#FF0000', 'green':'#008000', 'black':'#000000', 'white':'#FFFFFF'}\n",
    "for key in sorted(color_dict):\n",
    "    print(\"%s: %s\" % (key, color_dict[key]))"
   ]
  },
  {
   "cell_type": "code",
   "execution_count": 4,
   "id": "7b9d75e5",
   "metadata": {},
   "outputs": [
    {
     "name": "stdout",
     "output_type": "stream",
     "text": [
      "5\n",
      "<map object at 0x00000214758F49D0>\n"
     ]
    }
   ],
   "source": [
    "x=map(int,input().split())\n",
    "print(x)"
   ]
  },
  {
   "cell_type": "code",
   "execution_count": null,
   "id": "92a0e8e8",
   "metadata": {},
   "outputs": [],
   "source": []
  }
 ],
 "metadata": {
  "kernelspec": {
   "display_name": "Python 3 (ipykernel)",
   "language": "python",
   "name": "python3"
  },
  "language_info": {
   "codemirror_mode": {
    "name": "ipython",
    "version": 3
   },
   "file_extension": ".py",
   "mimetype": "text/x-python",
   "name": "python",
   "nbconvert_exporter": "python",
   "pygments_lexer": "ipython3",
   "version": "3.9.12"
  }
 },
 "nbformat": 4,
 "nbformat_minor": 5
}
