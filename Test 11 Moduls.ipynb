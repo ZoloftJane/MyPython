{
 "cells": [
  {
   "cell_type": "code",
   "execution_count": 1,
   "id": "46fb31ca",
   "metadata": {},
   "outputs": [
    {
     "name": "stdout",
     "output_type": "stream",
     "text": [
      "Polar Coordinates:  (5.0, 0.9272952180016122)\n",
      "Polar to rectangular:  (-2+2.4492935982947064e-16j)\n"
     ]
    }
   ],
   "source": [
    "# Напишите программу Python для преобразования полярных координат в прямоугольные координаты .\n",
    "import cmath\n",
    "cn = complex(3,4)\n",
    "# получение значений полярных координат\n",
    "print(\"Polar Coordinates: \",cmath.polar(cn))\n",
    "cn1 = cmath.rect(2, cmath.pi)\n",
    "print(\"Polar to rectangular: \",cn1)"
   ]
  },
  {
   "cell_type": "code",
   "execution_count": 3,
   "id": "48b1c0c8",
   "metadata": {},
   "outputs": [
    {
     "name": "stdout",
     "output_type": "stream",
     "text": [
      "0.9889811073656187\n"
     ]
    }
   ],
   "source": [
    "# Прочитать случайное число в промежутке от 0 до 1\n",
    "import random\n",
    "def xx():\n",
    "    return \n",
    "print(random.random())"
   ]
  },
  {
   "cell_type": "code",
   "execution_count": 4,
   "id": "3957902d",
   "metadata": {},
   "outputs": [
    {
     "name": "stdout",
     "output_type": "stream",
     "text": [
      "21/5\n"
     ]
    }
   ],
   "source": [
    "# Реализовать программу  для преобразования числа с плавающей запятой в неправильную дробь.\n",
    "from fractions import Fraction\n",
    "value = 4.2\n",
    "print(Fraction(value).limit_denominator())"
   ]
  },
  {
   "cell_type": "code",
   "execution_count": 10,
   "id": "4dce7e7a",
   "metadata": {},
   "outputs": [],
   "source": [
    "# Получить случайное целое число в промежутке от 2 до 4\n",
    "import random\n",
    "def xx(a,b):\n",
    "    return print(random.randint(a,b))\n"
   ]
  },
  {
   "cell_type": "code",
   "execution_count": 11,
   "id": "d64977f5",
   "metadata": {},
   "outputs": [
    {
     "name": "stdout",
     "output_type": "stream",
     "text": [
      "Square root of  1.44  is : 1.2\n",
      "exponential of  1.44  is : 4.220695816996552825673328929\n"
     ]
    }
   ],
   "source": [
    "# Изучите работу модуля decimal. \n",
    "# Напишите  программу Python, чтобы получить квадратный корень и экспоненту данного десятичного числа.\n",
    "from decimal import *\n",
    "x = Decimal('1.44')\n",
    "print(\"Square root of \",x, \" is :\", x.sqrt())\n",
    "print(\"exponential of \",x, \" is :\", x.exp())"
   ]
  },
  {
   "cell_type": "code",
   "execution_count": 12,
   "id": "024aac26",
   "metadata": {},
   "outputs": [
    {
     "name": "stdout",
     "output_type": "stream",
     "text": [
      "3.141592653589793\n"
     ]
    }
   ],
   "source": [
    "# Написать программу выводящую число пи. Указание: необходимо использовать математический пакета math.\n",
    "import math\n",
    "print (math.pi)"
   ]
  },
  {
   "cell_type": "code",
   "execution_count": null,
   "id": "dc7ddd01",
   "metadata": {},
   "outputs": [],
   "source": [
    "# Напишите программу на Python для вычисления площади правильного многоугольника. \n",
    "# Обратите внимание на подключение математического пакета Math. \n",
    "from math import tan, pi\n",
    "n_sides = int(input())\n",
    "s_length = float(input())\n",
    "p_area = n_sides * (s_length ** 2) / (4 * tan(pi / n_sides))\n",
    "print(\"The area of the polygon is: \",p_area)"
   ]
  },
  {
   "cell_type": "code",
   "execution_count": null,
   "id": "5771ed9e",
   "metadata": {},
   "outputs": [],
   "source": [
    "# Реализовать программу Python для сложения, вычитания, умножения и деления двух дробей.\n",
    "import fractions\n",
    "f1 = fractions.Fraction(2, 3)\n",
    "f2 = fractions.Fraction(3, 7)\n",
    "print('{} + {} = {}'.format(f1, f2, f1 + f2))\n",
    "print('{} - {} = {}'.format(f1, f2, f1 - f2))\n",
    "print('{} * {} = {}'.format(f1, f2, f1 * f2))\n",
    "print('{} / {} = {}'.format(f1, f2, f1 / f2))\n"
   ]
  },
  {
   "cell_type": "code",
   "execution_count": null,
   "id": "ad31711e",
   "metadata": {},
   "outputs": [],
   "source": [
    "import sys\n",
    "print(sys.builtin_module_names)"
   ]
  },
  {
   "cell_type": "code",
   "execution_count": null,
   "id": "e8f114dd",
   "metadata": {},
   "outputs": [],
   "source": [
    "a = 0\n",
    "b = 'Hello'\n",
    "import math\n",
    "dir()"
   ]
  },
  {
   "cell_type": "code",
   "execution_count": null,
   "id": "6565f0be",
   "metadata": {},
   "outputs": [],
   "source": [
    "#"
   ]
  }
 ],
 "metadata": {
  "kernelspec": {
   "display_name": "Python 3 (ipykernel)",
   "language": "python",
   "name": "python3"
  },
  "language_info": {
   "codemirror_mode": {
    "name": "ipython",
    "version": 3
   },
   "file_extension": ".py",
   "mimetype": "text/x-python",
   "name": "python",
   "nbconvert_exporter": "python",
   "pygments_lexer": "ipython3",
   "version": "3.9.12"
  }
 },
 "nbformat": 4,
 "nbformat_minor": 5
}
